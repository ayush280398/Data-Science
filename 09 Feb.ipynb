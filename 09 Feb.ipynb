{
 "cells": [
  {
   "cell_type": "code",
   "execution_count": 1,
   "id": "a2c0e0b3",
   "metadata": {},
   "outputs": [],
   "source": [
    "#Q1\n",
    "class vehicle:\n",
    "    def __init__(self, name_of_vehicle, max_speed, average_of_vehicle):\n",
    "        self.name_of_vehicle= name_of_vehicle\n",
    "        self.max_speed=max_speed\n",
    "        self.average_of_vehicle= average_of_vehicle"
   ]
  },
  {
   "cell_type": "code",
   "execution_count": 2,
   "id": "2fbcac94",
   "metadata": {},
   "outputs": [],
   "source": [
    "#Q2\n",
    "class car(vehicle):\n",
    "    def seating_capacity(self,capacity):\n",
    "        return f\"The {name_of_vehicle} a seat capacity of{capacity} people\""
   ]
  },
  {
   "cell_type": "code",
   "execution_count": 5,
   "id": "8674621a",
   "metadata": {},
   "outputs": [
    {
     "name": "stdout",
     "output_type": "stream",
     "text": [
      "Mammals can give direct birth\n",
      "Winged animals can flap\n"
     ]
    }
   ],
   "source": [
    "#Q3\n",
    "'''Multiple inheritance is a feature in object-oriented programming where a class can inherit attributes and behaviors from \n",
    "multiple parent classes. \n",
    "This allows a derived class to inherit and combine the characteristics of multiple base classes.'''\n",
    "\n",
    "class Mammal:\n",
    "    def mammal_info(self):\n",
    "        print(\"Mammals can give direct birth\")\n",
    "\n",
    "class WingedAnimal:\n",
    "    def winged_animall_info(self):\n",
    "        print(\"Winged animals can flap\")\n",
    "\n",
    "class Bat(Mammal, WingedAnimal):\n",
    "    pass\n",
    "\n",
    "b1= Bat()\n",
    "b1.mammal_info()\n",
    "b1.winged_animall_info()\n"
   ]
  },
  {
   "cell_type": "code",
   "execution_count": 1,
   "id": "13eac378",
   "metadata": {},
   "outputs": [],
   "source": [
    "#Q4\n",
    "''' Getters and setters are methods used to control access to the attributes of a class. \n",
    "They provide a way to retrieve and modify the values of private attributes while encapsulating the underlying data.\n",
    "This encapsulation helps maintain data integrity and allows you to add additional logic or validation when accessing or\n",
    "modifying the attributes.'''\n",
    "\n",
    "class Label:\n",
    "    def __init__(self, text, font):\n",
    "        self._text = text\n",
    "        self._font = font\n",
    "\n",
    "    def get_text(self):\n",
    "        return self._text\n",
    "\n",
    "    def set_text(self, value):\n",
    "        self._text = value\n",
    "\n",
    "    def get_font(self):\n",
    "        return self._font\n",
    "\n",
    "    def set_font(self, value):\n",
    "        self._font = value"
   ]
  },
  {
   "cell_type": "code",
   "execution_count": 2,
   "id": "fe93cfd3",
   "metadata": {},
   "outputs": [
    {
     "name": "stdout",
     "output_type": "stream",
     "text": [
      "Generic animal sound\n",
      "Bark! Bark!\n"
     ]
    }
   ],
   "source": [
    "#Q5\n",
    "'''Method overriding in Python is a concept in object oriented programming where a subclass provides a specific \n",
    "implementation for a method that is already defined in its superclass. \n",
    "When a method is overridden the version of the method in the subclass takes precedence \n",
    "over the version in the superclass.'''\n",
    "\n",
    "class Animal:\n",
    "    def make_sound(self):\n",
    "        print(\"Generic animal sound\")\n",
    "\n",
    "class Dog(Animal):\n",
    "    def make_sound(self):\n",
    "        print(\"Bark! Bark!\")\n",
    " \n",
    "animal_obj = Animal()\n",
    "dog_obj = Dog()\n",
    "\n",
    "animal_obj.make_sound() \n",
    "dog_obj.make_sound()"
   ]
  },
  {
   "cell_type": "code",
   "execution_count": null,
   "id": "3ac8b949",
   "metadata": {},
   "outputs": [],
   "source": []
  }
 ],
 "metadata": {
  "kernelspec": {
   "display_name": "Python 3 (ipykernel)",
   "language": "python",
   "name": "python3"
  },
  "language_info": {
   "codemirror_mode": {
    "name": "ipython",
    "version": 3
   },
   "file_extension": ".py",
   "mimetype": "text/x-python",
   "name": "python",
   "nbconvert_exporter": "python",
   "pygments_lexer": "ipython3",
   "version": "3.9.7"
  }
 },
 "nbformat": 4,
 "nbformat_minor": 5
}
